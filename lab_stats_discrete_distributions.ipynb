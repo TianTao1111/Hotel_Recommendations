{
 "cells": [
  {
   "cell_type": "markdown",
   "metadata": {},
   "source": [
    "<img align=\"center\" src=\"https://iili.io/3wI8gI.png\" style=\"height:90px\" style=\"width:30px\"/>"
   ]
  },
  {
   "cell_type": "markdown",
   "metadata": {},
   "source": [
    "# 1. Uniform"
   ]
  },
  {
   "cell_type": "markdown",
   "metadata": {},
   "source": [
    "## 1.1 Create a dice (a list with integers ranging from 1-6) "
   ]
  },
  {
   "cell_type": "code",
   "execution_count": null,
   "metadata": {},
   "outputs": [],
   "source": []
  },
  {
   "cell_type": "markdown",
   "metadata": {},
   "source": [
    "## 1.2 What is the likelihood of throwing a 6? "
   ]
  },
  {
   "cell_type": "code",
   "execution_count": null,
   "metadata": {},
   "outputs": [],
   "source": []
  },
  {
   "cell_type": "markdown",
   "metadata": {},
   "source": [
    "## 1.3 Simulate 100 dice throws\n",
    "\n",
    "1) Calculate the distribution of throws in terms of percent\n",
    "\n",
    "- Which number occurred the most number of times? How much more frequent (in terms of percentages) is it than the expected outcome?\n",
    "- Which number occurred the least amount of times? How much less frequent (in terms of percentages) is it than the expected outcome?\n",
    "\n",
    "2) visualize the distribution"
   ]
  },
  {
   "cell_type": "code",
   "execution_count": null,
   "metadata": {},
   "outputs": [],
   "source": []
  },
  {
   "cell_type": "code",
   "execution_count": null,
   "metadata": {},
   "outputs": [],
   "source": []
  },
  {
   "cell_type": "code",
   "execution_count": null,
   "metadata": {},
   "outputs": [],
   "source": []
  },
  {
   "cell_type": "markdown",
   "metadata": {},
   "source": [
    "## 1.4 Simulate 10 000 dice throws\n",
    "\n",
    "1) Calculate the distribution of throws in terms of percent\n",
    "- Which number occurred the most number of times? How much more frequent (in terms of percentages) is it than the expected outcome?\n",
    "- Which number occurred the least amount of times? How much less frequent (in terms of percentages) is it than the expected outcome?\n",
    "\n",
    "2) Why is the difference between the outcome and the expected outcome lower in this question compared to the previous question?\n",
    "\n",
    "3) Visualize the distribution"
   ]
  },
  {
   "cell_type": "code",
   "execution_count": null,
   "metadata": {},
   "outputs": [],
   "source": []
  },
  {
   "cell_type": "code",
   "execution_count": null,
   "metadata": {},
   "outputs": [],
   "source": []
  },
  {
   "cell_type": "code",
   "execution_count": null,
   "metadata": {},
   "outputs": [],
   "source": []
  },
  {
   "cell_type": "markdown",
   "metadata": {},
   "source": [
    "# 2. Binomial"
   ]
  },
  {
   "cell_type": "markdown",
   "metadata": {},
   "source": [
    "## 2.1 When flipping a coin, what is the likelihood of getting 3 heads in a row?"
   ]
  },
  {
   "cell_type": "code",
   "execution_count": null,
   "metadata": {},
   "outputs": [],
   "source": []
  },
  {
   "cell_type": "markdown",
   "metadata": {},
   "source": [
    "## 2.2 What is the likelihood of getting 7 heads in a row?"
   ]
  },
  {
   "cell_type": "code",
   "execution_count": null,
   "metadata": {},
   "outputs": [],
   "source": []
  },
  {
   "cell_type": "markdown",
   "metadata": {},
   "source": [
    "## 2.3 Generate and visualize a binomial distribution of 100 rounds of a 100 coin flips\n",
    "\n",
    "- 100 flips per round\n",
    "- 50% likelihood of success\n",
    "- 100 rounds\n",
    "\n",
    "1) What is the maximum number of \"successes\" for a round in your simulated data?\n",
    "\n",
    "2) What is the minimum number of \"successes\" for a round in your simulated data?"
   ]
  },
  {
   "cell_type": "code",
   "execution_count": null,
   "metadata": {},
   "outputs": [],
   "source": []
  },
  {
   "cell_type": "code",
   "execution_count": null,
   "metadata": {},
   "outputs": [],
   "source": []
  },
  {
   "cell_type": "code",
   "execution_count": null,
   "metadata": {},
   "outputs": [],
   "source": []
  },
  {
   "cell_type": "markdown",
   "metadata": {},
   "source": [
    "# 3. Poisson"
   ]
  },
  {
   "cell_type": "markdown",
   "metadata": {},
   "source": [
    "## 3.1 Power outages in Stockholm City\n",
    "\n",
    "There is on average a severe power outage in Stockholm City 5 times per year. \n",
    "\n",
    "1) Simulate and visualize a poisson distribution of severe power outages in Stockholm City over a 50 year period.\n",
    "\n",
    "2) What was the minimum number of power outages in your simulation? \n",
    "\n",
    "3) What was the maximum number of power outages in your simulation?"
   ]
  },
  {
   "cell_type": "code",
   "execution_count": null,
   "metadata": {},
   "outputs": [],
   "source": []
  },
  {
   "cell_type": "code",
   "execution_count": null,
   "metadata": {},
   "outputs": [],
   "source": []
  },
  {
   "cell_type": "code",
   "execution_count": null,
   "metadata": {},
   "outputs": [],
   "source": []
  },
  {
   "cell_type": "markdown",
   "metadata": {},
   "source": [
    "## 3.2 Falafel daily sales\n",
    "\n",
    "A Falafel truck sells on average 200 falafels per day \n",
    "\n",
    "1) Simulate and visualize the distribution of the number of Falafels sold per day over a 30 day period\n",
    "\n",
    "2) Visualize the simulated outcome in a lineplot\n",
    "\n",
    "3) The food truck will run out of stock for the day after 230 Falafels. What is the likelihood of running out of stock?\n",
    "- Either answer this using many simulations or...\n",
    "- Calculate it with the [Poisson functionality in the scipy library](https://docs.scipy.org/doc/scipy/reference/generated/scipy.stats.poisson.html)"
   ]
  },
  {
   "cell_type": "code",
   "execution_count": null,
   "metadata": {},
   "outputs": [],
   "source": []
  },
  {
   "cell_type": "code",
   "execution_count": null,
   "metadata": {},
   "outputs": [],
   "source": []
  },
  {
   "cell_type": "code",
   "execution_count": null,
   "metadata": {},
   "outputs": [],
   "source": []
  },
  {
   "cell_type": "markdown",
   "metadata": {},
   "source": [
    "# LAB FINISHED\n",
    "___"
   ]
  },
  {
   "cell_type": "markdown",
   "metadata": {},
   "source": [
    "# BONUS CHALLENGES"
   ]
  },
  {
   "cell_type": "markdown",
   "metadata": {},
   "source": [
    "## 1. Stockholm Derby\n",
    "\n",
    "Djurgårdens IF is facing AIK on a sunny sunday in early June. AIK is the home team. \n",
    "\n",
    "During the season, Djurgården has on average scored 1.5 goals when playing away\n",
    "\n",
    "AIK has on average scored 1.8 goals when playing at home\n",
    "\n",
    "Assuming the expected goals scored on Sunday for each team can be described by poisson distributions with the above mentioned Lambda as input, we want to explore likelihoods of different outcomes in the match"
   ]
  },
  {
   "cell_type": "markdown",
   "metadata": {},
   "source": [
    "## Q1.1 Simulate 100 matches & calculate probability of outcomes\n",
    "\n",
    "- Generate 1 poisson distribution for DIF simulating goals scored for DIF over 100 matches and save in a variable called `dif_goals`\n",
    "- Generate 1 poisson distribution for AIK simulating goals scored for AIK over 100 matches and save in a variable called `aik_goals`\n",
    "\n",
    "Instructions for simulating a game and keeping track of outcomes:\n",
    "\n",
    "Let values from matching index positions in each list constitute the resulat of a game. So if `dif_goals[0]` equals 2 and `aik_goals[0]` equals 2, the result of the simulated game is 2-2. \n",
    "\n",
    "Loop through each \"game\" and count:\n",
    "- number of matches ending in a draw\n",
    "- wins for AIK \n",
    "- wins for DIF\n",
    "\n",
    "Then calculate the probability of each outcome according to your simulation"
   ]
  },
  {
   "cell_type": "code",
   "execution_count": null,
   "metadata": {},
   "outputs": [],
   "source": []
  },
  {
   "cell_type": "code",
   "execution_count": null,
   "metadata": {},
   "outputs": [],
   "source": []
  },
  {
   "cell_type": "code",
   "execution_count": null,
   "metadata": {},
   "outputs": [],
   "source": []
  },
  {
   "cell_type": "markdown",
   "metadata": {},
   "source": [
    "## Q1.2 Simulate 1 000 000 matches and calculate odds for each outcome\n",
    "\n",
    "To begin with simulate 1 000 000 matches and count the outcome of each game.\n",
    "\n",
    "Then calculate the probability for each outcome. \n",
    "\n",
    "Then create odds for each outcome"
   ]
  },
  {
   "cell_type": "code",
   "execution_count": null,
   "metadata": {},
   "outputs": [],
   "source": []
  },
  {
   "cell_type": "code",
   "execution_count": null,
   "metadata": {},
   "outputs": [],
   "source": []
  },
  {
   "cell_type": "code",
   "execution_count": null,
   "metadata": {},
   "outputs": [],
   "source": []
  },
  {
   "cell_type": "markdown",
   "metadata": {},
   "source": [
    "## Q1.3 Calculate expected return given superior information \n",
    "\n",
    "Imagine the odds you created in the previous question was offered by a betting-site. Then imagine you had information stating that the lambda for Djurgårdens IF for this specific game was better represented by 1.3. \n",
    "\n",
    "Given that your information was true, what would be your expected return if your were to bet 100kr on AIK winning, given the odds you calculated in the previous question"
   ]
  },
  {
   "cell_type": "code",
   "execution_count": null,
   "metadata": {},
   "outputs": [],
   "source": []
  },
  {
   "cell_type": "code",
   "execution_count": null,
   "metadata": {},
   "outputs": [],
   "source": []
  },
  {
   "cell_type": "code",
   "execution_count": null,
   "metadata": {},
   "outputs": [],
   "source": []
  }
 ],
 "metadata": {
  "kernelspec": {
   "display_name": "Python 3",
   "language": "python",
   "name": "python3"
  },
  "language_info": {
   "codemirror_mode": {
    "name": "ipython",
    "version": 3
   },
   "file_extension": ".py",
   "mimetype": "text/x-python",
   "name": "python",
   "nbconvert_exporter": "python",
   "pygments_lexer": "ipython3",
   "version": "3.8.3"
  },
  "toc": {
   "base_numbering": 1,
   "nav_menu": {},
   "number_sections": false,
   "sideBar": true,
   "skip_h1_title": false,
   "title_cell": "Table of Contents",
   "title_sidebar": "Contents",
   "toc_cell": false,
   "toc_position": {},
   "toc_section_display": true,
   "toc_window_display": false
  },
  "varInspector": {
   "cols": {
    "lenName": 16,
    "lenType": 16,
    "lenVar": 40
   },
   "kernels_config": {
    "python": {
     "delete_cmd_postfix": "",
     "delete_cmd_prefix": "del ",
     "library": "var_list.py",
     "varRefreshCmd": "print(var_dic_list())"
    },
    "r": {
     "delete_cmd_postfix": ") ",
     "delete_cmd_prefix": "rm(",
     "library": "var_list.r",
     "varRefreshCmd": "cat(var_dic_list()) "
    }
   },
   "types_to_exclude": [
    "module",
    "function",
    "builtin_function_or_method",
    "instance",
    "_Feature"
   ],
   "window_display": false
  }
 },
 "nbformat": 4,
 "nbformat_minor": 4
}
