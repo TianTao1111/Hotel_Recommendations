{
 "cells": [
  {
   "cell_type": "code",
   "execution_count": 1,
   "metadata": {},
   "outputs": [],
   "source": [
    "import pandas as pd\n",
    "import http.client\n",
    "from dotenv import load_dotenv\n",
    "import json\n",
    "import ast  # To safely evaluate the string as a dictionary\n",
    "import matplotlib.pyplot as plt\n",
    "import seaborn as sns\n",
    "\n",
    "import os\n",
    "import time"
   ]
  },
  {
   "cell_type": "code",
   "execution_count": 8,
   "metadata": {},
   "outputs": [
    {
     "name": "stdout",
     "output_type": "stream",
     "text": [
      "weatherbit-v1-mashape.p.rapidapi.com\n",
      "a29fa7550emshd22ad2dcdc1d6fap1bfd73jsnbc24356674f8\n"
     ]
    }
   ],
   "source": [
    "# connect weather API\n",
    "\n",
    "load_dotenv(dotenv_path=r\"C:\\Users\\taoti\\GitHub\\Hotel_Recommendations\\.env\")\n",
    "\n",
    "\n",
    "print(os.environ[\"weather_api_host\"])\n",
    "print(os.environ[\"weather_api_key\"])"
   ]
  },
  {
   "cell_type": "code",
   "execution_count": null,
   "metadata": {},
   "outputs": [],
   "source": [
    "\n",
    "# store data requested from API into dataframe for the convinience of analysis\n",
    "\n",
    "\n",
    "# List of European locations (city: lat, lon)\n",
    "locations = {\n",
    "    \"London, UK\": (51.5074, -0.1278),\n",
    "    \"Paris, France\": (48.8566, 2.3522),\n",
    "    \"Berlin, Germany\": (52.5200, 13.4050),\n",
    "    \"Rome, Italy\": (41.9028, 12.4964),\n",
    "    \"Madrid, Spain\": (40.4168, -3.7038)\n",
    "}\n",
    "\n",
    "# Initialize connection\n",
    "conn = http.client.HTTPSConnection(os.environ[\"weather_api_host\"])\n",
    "headers = {\n",
    "    'x-rapidapi-key': os.environ[\"weather_api_key\"],\n",
    "    'x-rapidapi-host': os.environ[\"weather_api_host\"]\n",
    "}\n",
    "\n",
    "# Create a list all_weather_data to store all records\n",
    "weather_data_lst = []\n",
    "\n",
    "\n",
    "def weather_extract(conn, locations):\n",
    "    all_weather_data = []\n",
    "\n",
    "    # Loop through locations\n",
    "    for city, (lat, lon) in locations.items():\n",
    "        try: \n",
    "            # define url as local variable\n",
    "            url = f\"/forecast/daily?lat={lat}&lon={lon}&units=metric&lang=en\"\n",
    "\n",
    "            # Request to the API, and get data as the response\n",
    "            conn.request(\"GET\", url, headers=headers)\n",
    "            res = conn.getresponse()\n",
    "            data = res.read()\n",
    "\n",
    "            # Parse JSON and extract data\n",
    "            weather_data = json.loads(data)\n",
    "            print(f\"Response for {city}: {weather_data}\")\n",
    "            \n",
    "            if 'data' in weather_data:\n",
    "                    records = weather_data['data']\n",
    "                    # Add city information to each record\n",
    "                    for record in records:\n",
    "                        record['city'] = city\n",
    "                    all_weather_data.extend(records)\n",
    "            else:\n",
    "                    print(f\"No 'data' key found for {city}. Skipping...\")\n",
    "                    time.sleep(1)  # Wait 1 second between requests\n",
    "        except Exception as e:\n",
    "            print(f\"Error fetching data for {city}: {e}\")\n",
    "            time.sleep(5)  # Wait 5 seconds before retrying\n",
    "    return all_weather_data\n",
    "\n",
    "# call function weather_extract()\n",
    "weather_data_lst = weather_extract(conn, locations)\n",
    "\n",
    "# Create DataFrame from lsit all_weather_data\n",
    "df = pd.DataFrame(weather_data_lst)\n",
    "\n",
    "# Display the DataFrame\n",
    "print(df.head())\n",
    "\n",
    "# Save the DataFrame to a CSV file\n",
    "df.to_csv(\"weather_data.csv\", index=False)"
   ]
  },
  {
   "cell_type": "code",
   "execution_count": null,
   "metadata": {},
   "outputs": [],
   "source": []
  }
 ],
 "metadata": {
  "kernelspec": {
   "display_name": "base",
   "language": "python",
   "name": "python3"
  },
  "language_info": {
   "codemirror_mode": {
    "name": "ipython",
    "version": 3
   },
   "file_extension": ".py",
   "mimetype": "text/x-python",
   "name": "python",
   "nbconvert_exporter": "python",
   "pygments_lexer": "ipython3",
   "version": "3.12.4"
  }
 },
 "nbformat": 4,
 "nbformat_minor": 2
}
